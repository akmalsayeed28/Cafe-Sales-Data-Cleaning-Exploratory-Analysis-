{
 "cells": [
  {
   "cell_type": "code",
   "execution_count": 46,
   "id": "20e4e8e0",
   "metadata": {},
   "outputs": [],
   "source": [
    "import pandas as pd\n",
    "df = pd.read_csv('dirty_cafe_sales.csv')"
   ]
  },
  {
   "cell_type": "code",
   "execution_count": 47,
   "id": "87489027",
   "metadata": {},
   "outputs": [
    {
     "data": {
      "text/html": [
       "<div>\n",
       "<style scoped>\n",
       "    .dataframe tbody tr th:only-of-type {\n",
       "        vertical-align: middle;\n",
       "    }\n",
       "\n",
       "    .dataframe tbody tr th {\n",
       "        vertical-align: top;\n",
       "    }\n",
       "\n",
       "    .dataframe thead th {\n",
       "        text-align: right;\n",
       "    }\n",
       "</style>\n",
       "<table border=\"1\" class=\"dataframe\">\n",
       "  <thead>\n",
       "    <tr style=\"text-align: right;\">\n",
       "      <th></th>\n",
       "      <th>Transaction ID</th>\n",
       "      <th>Item</th>\n",
       "      <th>Quantity</th>\n",
       "      <th>Price Per Unit</th>\n",
       "      <th>Total Spent</th>\n",
       "      <th>Payment Method</th>\n",
       "      <th>Location</th>\n",
       "      <th>Transaction Date</th>\n",
       "    </tr>\n",
       "  </thead>\n",
       "  <tbody>\n",
       "    <tr>\n",
       "      <th>0</th>\n",
       "      <td>TXN_1961373</td>\n",
       "      <td>Coffee</td>\n",
       "      <td>2</td>\n",
       "      <td>2.0</td>\n",
       "      <td>4.0</td>\n",
       "      <td>Credit Card</td>\n",
       "      <td>Takeaway</td>\n",
       "      <td>2023-09-08</td>\n",
       "    </tr>\n",
       "    <tr>\n",
       "      <th>1</th>\n",
       "      <td>TXN_4977031</td>\n",
       "      <td>Cake</td>\n",
       "      <td>4</td>\n",
       "      <td>3.0</td>\n",
       "      <td>12.0</td>\n",
       "      <td>Cash</td>\n",
       "      <td>In-store</td>\n",
       "      <td>2023-05-16</td>\n",
       "    </tr>\n",
       "    <tr>\n",
       "      <th>2</th>\n",
       "      <td>TXN_4271903</td>\n",
       "      <td>Cookie</td>\n",
       "      <td>4</td>\n",
       "      <td>1.0</td>\n",
       "      <td>ERROR</td>\n",
       "      <td>Credit Card</td>\n",
       "      <td>In-store</td>\n",
       "      <td>2023-07-19</td>\n",
       "    </tr>\n",
       "    <tr>\n",
       "      <th>3</th>\n",
       "      <td>TXN_7034554</td>\n",
       "      <td>Salad</td>\n",
       "      <td>2</td>\n",
       "      <td>5.0</td>\n",
       "      <td>10.0</td>\n",
       "      <td>UNKNOWN</td>\n",
       "      <td>UNKNOWN</td>\n",
       "      <td>2023-04-27</td>\n",
       "    </tr>\n",
       "    <tr>\n",
       "      <th>4</th>\n",
       "      <td>TXN_3160411</td>\n",
       "      <td>Coffee</td>\n",
       "      <td>2</td>\n",
       "      <td>2.0</td>\n",
       "      <td>4.0</td>\n",
       "      <td>Digital Wallet</td>\n",
       "      <td>In-store</td>\n",
       "      <td>2023-06-11</td>\n",
       "    </tr>\n",
       "  </tbody>\n",
       "</table>\n",
       "</div>"
      ],
      "text/plain": [
       "  Transaction ID    Item Quantity Price Per Unit Total Spent  Payment Method  \\\n",
       "0    TXN_1961373  Coffee        2            2.0         4.0     Credit Card   \n",
       "1    TXN_4977031    Cake        4            3.0        12.0            Cash   \n",
       "2    TXN_4271903  Cookie        4            1.0       ERROR     Credit Card   \n",
       "3    TXN_7034554   Salad        2            5.0        10.0         UNKNOWN   \n",
       "4    TXN_3160411  Coffee        2            2.0         4.0  Digital Wallet   \n",
       "\n",
       "   Location Transaction Date  \n",
       "0  Takeaway       2023-09-08  \n",
       "1  In-store       2023-05-16  \n",
       "2  In-store       2023-07-19  \n",
       "3   UNKNOWN       2023-04-27  \n",
       "4  In-store       2023-06-11  "
      ]
     },
     "execution_count": 47,
     "metadata": {},
     "output_type": "execute_result"
    }
   ],
   "source": [
    "import numpy as np\n",
    "df.head()"
   ]
  },
  {
   "cell_type": "code",
   "execution_count": 48,
   "id": "e44e9aba",
   "metadata": {},
   "outputs": [
    {
     "name": "stdout",
     "output_type": "stream",
     "text": [
      "<class 'pandas.core.frame.DataFrame'>\n",
      "RangeIndex: 10000 entries, 0 to 9999\n",
      "Data columns (total 8 columns):\n",
      " #   Column            Non-Null Count  Dtype \n",
      "---  ------            --------------  ----- \n",
      " 0   Transaction ID    10000 non-null  object\n",
      " 1   Item              9667 non-null   object\n",
      " 2   Quantity          9862 non-null   object\n",
      " 3   Price Per Unit    9821 non-null   object\n",
      " 4   Total Spent       9827 non-null   object\n",
      " 5   Payment Method    7421 non-null   object\n",
      " 6   Location          6735 non-null   object\n",
      " 7   Transaction Date  9841 non-null   object\n",
      "dtypes: object(8)\n",
      "memory usage: 625.1+ KB\n"
     ]
    }
   ],
   "source": [
    "df.info()"
   ]
  },
  {
   "cell_type": "code",
   "execution_count": 49,
   "id": "6ed1b83c",
   "metadata": {},
   "outputs": [],
   "source": [
    "#changing data type to suitable data types\n",
    "df['Quantity'] = pd.to_numeric(df['Quantity'], errors='coerce').astype('Int64')\n",
    "df['Price Per Unit'] = pd.to_numeric(df['Price Per Unit'], errors='coerce').astype('float64')\n",
    "df['Total Spent'] = pd.to_numeric(df['Total Spent'], errors='coerce').astype('float64')\n"
   ]
  },
  {
   "cell_type": "code",
   "execution_count": 50,
   "id": "bad9051d",
   "metadata": {},
   "outputs": [
    {
     "data": {
      "text/plain": [
       "Transaction ID         0\n",
       "Item                 333\n",
       "Quantity             479\n",
       "Price Per Unit       533\n",
       "Total Spent          502\n",
       "Payment Method      2579\n",
       "Location            3265\n",
       "Transaction Date     159\n",
       "dtype: int64"
      ]
     },
     "execution_count": 50,
     "metadata": {},
     "output_type": "execute_result"
    }
   ],
   "source": [
    "pd.isnull(df).sum()"
   ]
  },
  {
   "cell_type": "code",
   "execution_count": 51,
   "id": "8191c5ec",
   "metadata": {},
   "outputs": [
    {
     "name": "stdout",
     "output_type": "stream",
     "text": [
      "<class 'pandas.core.frame.DataFrame'>\n",
      "RangeIndex: 10000 entries, 0 to 9999\n",
      "Data columns (total 8 columns):\n",
      " #   Column            Non-Null Count  Dtype  \n",
      "---  ------            --------------  -----  \n",
      " 0   Transaction ID    10000 non-null  object \n",
      " 1   Item              9667 non-null   object \n",
      " 2   Quantity          9521 non-null   Int64  \n",
      " 3   Price Per Unit    9467 non-null   float64\n",
      " 4   Total Spent       9498 non-null   float64\n",
      " 5   Payment Method    7421 non-null   object \n",
      " 6   Location          6735 non-null   object \n",
      " 7   Transaction Date  9841 non-null   object \n",
      "dtypes: Int64(1), float64(2), object(5)\n",
      "memory usage: 634.9+ KB\n"
     ]
    }
   ],
   "source": [
    "df.info()"
   ]
  },
  {
   "cell_type": "code",
   "execution_count": 52,
   "id": "6c91faab",
   "metadata": {},
   "outputs": [],
   "source": [
    "#dropping rows where quantity and price per unit both are null\n",
    "df = df.dropna(subset=['Quantity', 'Price Per Unit'], how='all')\n"
   ]
  },
  {
   "cell_type": "code",
   "execution_count": 53,
   "id": "60590dbb",
   "metadata": {},
   "outputs": [],
   "source": [
    "#dropping rows where transaction date is null\n",
    "df = df.dropna(subset=['Transaction Date'],how='any')"
   ]
  },
  {
   "cell_type": "code",
   "execution_count": 67,
   "id": "e3ec4a75",
   "metadata": {},
   "outputs": [],
   "source": [
    "cols = ['Quantity', 'Price Per Unit', 'Total Spent']\n",
    "# Convert to numeric, setting errors='coerce' will turn invalid values into NaN\n",
    "df[cols] = df[cols].apply(pd.to_numeric, errors='coerce')\n",
    "\n",
    "#we have 3 columns which are interconnected so if any 2 is available we can find the 3rd by using equations\n",
    "# Fill missing Quantity using loc function\n",
    "df.loc[df['Quantity'].isna(), 'Quantity'] = (\n",
    "    df['Total Spent'] / df['Price Per Unit']\n",
    ")\n",
    "# Fill missing Price Per Unit using loc function\n",
    "df.loc[df['Price Per Unit'].isna(), 'Price Per Unit'] = (\n",
    "    df['Total Spent'] / df['Quantity']\n",
    ")\n",
    "# Fill missing Total Spent using loc function\n",
    "df.loc[df['Total Spent'].isna(), 'Total Spent'] = (\n",
    "    df['Quantity'] * df['Price Per Unit']\n",
    ")"
   ]
  },
  {
   "cell_type": "code",
   "execution_count": 55,
   "id": "7bde5b8e",
   "metadata": {},
   "outputs": [
    {
     "name": "stdout",
     "output_type": "stream",
     "text": [
      "<class 'pandas.core.frame.DataFrame'>\n",
      "Index: 9824 entries, 0 to 9999\n",
      "Data columns (total 8 columns):\n",
      " #   Column            Non-Null Count  Dtype  \n",
      "---  ------            --------------  -----  \n",
      " 0   Transaction ID    9824 non-null   object \n",
      " 1   Item              9498 non-null   object \n",
      " 2   Quantity          9804 non-null   Int64  \n",
      " 3   Price Per Unit    9805 non-null   Float64\n",
      " 4   Total Spent       9785 non-null   Float64\n",
      " 5   Payment Method    7295 non-null   object \n",
      " 6   Location          6619 non-null   object \n",
      " 7   Transaction Date  9824 non-null   object \n",
      "dtypes: Float64(2), Int64(1), object(5)\n",
      "memory usage: 977.6+ KB\n"
     ]
    }
   ],
   "source": [
    "df.info()"
   ]
  },
  {
   "cell_type": "code",
   "execution_count": 68,
   "id": "7ff790e7",
   "metadata": {},
   "outputs": [
    {
     "data": {
      "text/plain": [
       "Transaction ID       0\n",
       "Item                78\n",
       "Quantity             0\n",
       "Price Per Unit       0\n",
       "Total Spent          0\n",
       "Payment Method       0\n",
       "Location             0\n",
       "Transaction Date     0\n",
       "dtype: int64"
      ]
     },
     "execution_count": 68,
     "metadata": {},
     "output_type": "execute_result"
    }
   ],
   "source": [
    "#counting of null values in all the column\n",
    "pd.isnull(df).sum()"
   ]
  },
  {
   "cell_type": "code",
   "execution_count": 69,
   "id": "49575433",
   "metadata": {},
   "outputs": [],
   "source": [
    "#dropping of Total Spent Rows where the data is blank after the equation , because from the 3 columns(qty, price & total spent) 2 columns dont have value that is why\n",
    "df=df.dropna(subset=['Total Spent'], how='any')"
   ]
  },
  {
   "cell_type": "code",
   "execution_count": 70,
   "id": "5864333f",
   "metadata": {},
   "outputs": [
    {
     "data": {
      "text/plain": [
       "array(['Takeaway', 'In-store'], dtype=object)"
      ]
     },
     "execution_count": 70,
     "metadata": {},
     "output_type": "execute_result"
    }
   ],
   "source": [
    "#displaying unique values in Location Column\n",
    "df['Location'].unique()"
   ]
  },
  {
   "cell_type": "code",
   "execution_count": 71,
   "id": "0cb93088",
   "metadata": {},
   "outputs": [
    {
     "data": {
      "text/plain": [
       "Transaction Date\n",
       "2023-06-16    40\n",
       "2023-02-06    40\n",
       "2023-03-13    39\n",
       "2023-07-21    39\n",
       "2023-07-24    39\n",
       "              ..\n",
       "2023-11-24    15\n",
       "2023-07-30    15\n",
       "2023-07-22    14\n",
       "2023-03-11    14\n",
       "2023-02-17    14\n",
       "Name: count, Length: 365, dtype: int64"
      ]
     },
     "execution_count": 71,
     "metadata": {},
     "output_type": "execute_result"
    }
   ],
   "source": [
    "#counting of how many time a value is appearing in Transaction date\n",
    "df['Transaction Date'].value_counts()"
   ]
  },
  {
   "cell_type": "code",
   "execution_count": 72,
   "id": "88f81f4e",
   "metadata": {},
   "outputs": [],
   "source": [
    "#replacing Error and UNknown with Digital Wallet\n",
    "df['Payment Method'] = df['Payment Method'].replace({'ERROR':'Digital Wallet','UNKNOWN':'Digital Wallet'})"
   ]
  },
  {
   "cell_type": "code",
   "execution_count": 73,
   "id": "5d154ea4",
   "metadata": {},
   "outputs": [],
   "source": [
    "#Filling null values with Credit Card in payment mode column\n",
    "df[\"Payment Method\"] = df['Payment Method'].fillna(\"Credit Card\")"
   ]
  },
  {
   "cell_type": "code",
   "execution_count": 75,
   "id": "b205c0ed",
   "metadata": {},
   "outputs": [],
   "source": [
    "#replacing ERROR or UNKNOWN value to instore, filling null values with Takeaway\n",
    "df['Location'] = df['Location'].replace({'ERROR':'In-store','UNKNOWN':'In-store'})\n",
    "df['Location'] = df['Location'].fillna(\"Takeaway\")"
   ]
  },
  {
   "cell_type": "code",
   "execution_count": 76,
   "id": "c26d17ae",
   "metadata": {},
   "outputs": [
    {
     "name": "stdout",
     "output_type": "stream",
     "text": [
      "<class 'pandas.core.frame.DataFrame'>\n",
      "Index: 9485 entries, 0 to 9999\n",
      "Data columns (total 8 columns):\n",
      " #   Column            Non-Null Count  Dtype  \n",
      "---  ------            --------------  -----  \n",
      " 0   Transaction ID    9485 non-null   object \n",
      " 1   Item              9407 non-null   object \n",
      " 2   Quantity          9485 non-null   Int64  \n",
      " 3   Price Per Unit    9485 non-null   Float64\n",
      " 4   Total Spent       9485 non-null   Float64\n",
      " 5   Payment Method    9485 non-null   object \n",
      " 6   Location          9485 non-null   object \n",
      " 7   Transaction Date  9485 non-null   object \n",
      "dtypes: Float64(2), Int64(1), object(5)\n",
      "memory usage: 952.7+ KB\n"
     ]
    },
    {
     "data": {
      "text/plain": [
       "Transaction ID       0\n",
       "Item                78\n",
       "Quantity             0\n",
       "Price Per Unit       0\n",
       "Total Spent          0\n",
       "Payment Method       0\n",
       "Location             0\n",
       "Transaction Date     0\n",
       "dtype: int64"
      ]
     },
     "execution_count": 76,
     "metadata": {},
     "output_type": "execute_result"
    }
   ],
   "source": [
    "df.info()\n",
    "pd.isnull(df).sum()"
   ]
  },
  {
   "cell_type": "code",
   "execution_count": 77,
   "id": "fcddbd70",
   "metadata": {},
   "outputs": [],
   "source": [
    "#dropping transaction date where value is ERROR or UNKNOWN\n",
    "df = df[~df[\"Transaction Date\"].isin([\"ERROR\", \"UNKNOWN\"])]"
   ]
  },
  {
   "cell_type": "code",
   "execution_count": 78,
   "id": "bdd678fc",
   "metadata": {},
   "outputs": [],
   "source": [
    "#placing items based on the price in the rows where values are (null , error, unknown)\n",
    "df.loc[df['Price Per Unit']==1, 'Item'] = 'Cookie'\n",
    "df.loc[df['Price Per Unit']==1.5, 'Item'] = 'Tea'\n",
    "df.loc[df['Price Per Unit']==2, 'Item'] = 'Coffee'\n",
    "df.loc[df['Price Per Unit']==5, 'Item'] = 'Salad'"
   ]
  },
  {
   "cell_type": "code",
   "execution_count": null,
   "id": "7c353fdc",
   "metadata": {},
   "outputs": [],
   "source": [
    "#placing items based on the price in the rows where values are (null , error, unknown)\n",
    "df.loc[df['Price Per Unit']==4, 'Item'] = 'Smoothie'\n",
    "df.loc[df['Price Per Unit']==3, 'Item'] = 'Juice'"
   ]
  },
  {
   "cell_type": "code",
   "execution_count": 80,
   "id": "21a5dd44",
   "metadata": {},
   "outputs": [
    {
     "data": {
      "text/plain": [
       "Item\n",
       "Juice       2431\n",
       "Smoothie    2324\n",
       "Coffee      1239\n",
       "Salad       1212\n",
       "Cookie      1144\n",
       "Tea         1135\n",
       "Name: count, dtype: int64"
      ]
     },
     "execution_count": 80,
     "metadata": {},
     "output_type": "execute_result"
    }
   ],
   "source": [
    "df['Item'].value_counts()"
   ]
  },
  {
   "cell_type": "code",
   "execution_count": 81,
   "id": "e71f45d0",
   "metadata": {},
   "outputs": [
    {
     "name": "stdout",
     "output_type": "stream",
     "text": [
      "<class 'pandas.core.frame.DataFrame'>\n",
      "Index: 9485 entries, 0 to 9999\n",
      "Data columns (total 8 columns):\n",
      " #   Column            Non-Null Count  Dtype  \n",
      "---  ------            --------------  -----  \n",
      " 0   Transaction ID    9485 non-null   object \n",
      " 1   Item              9485 non-null   object \n",
      " 2   Quantity          9485 non-null   Int64  \n",
      " 3   Price Per Unit    9485 non-null   Float64\n",
      " 4   Total Spent       9485 non-null   Float64\n",
      " 5   Payment Method    9485 non-null   object \n",
      " 6   Location          9485 non-null   object \n",
      " 7   Transaction Date  9485 non-null   object \n",
      "dtypes: Float64(2), Int64(1), object(5)\n",
      "memory usage: 952.7+ KB\n"
     ]
    },
    {
     "data": {
      "text/plain": [
       "Transaction ID      0\n",
       "Item                0\n",
       "Quantity            0\n",
       "Price Per Unit      0\n",
       "Total Spent         0\n",
       "Payment Method      0\n",
       "Location            0\n",
       "Transaction Date    0\n",
       "dtype: int64"
      ]
     },
     "execution_count": 81,
     "metadata": {},
     "output_type": "execute_result"
    }
   ],
   "source": [
    "df.info()\n",
    "pd.isnull(df).sum()"
   ]
  },
  {
   "cell_type": "code",
   "execution_count": 82,
   "id": "8bfb55e4",
   "metadata": {},
   "outputs": [],
   "source": [
    "df.to_csv('clean_cafesales.csv',index=False)"
   ]
  }
 ],
 "metadata": {
  "kernelspec": {
   "display_name": "akmal",
   "language": "python",
   "name": "python3"
  },
  "language_info": {
   "codemirror_mode": {
    "name": "ipython",
    "version": 3
   },
   "file_extension": ".py",
   "mimetype": "text/x-python",
   "name": "python",
   "nbconvert_exporter": "python",
   "pygments_lexer": "ipython3",
   "version": "3.13.2"
  }
 },
 "nbformat": 4,
 "nbformat_minor": 5
}
